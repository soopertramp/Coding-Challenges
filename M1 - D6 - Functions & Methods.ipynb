{
  "nbformat": 4,
  "nbformat_minor": 0,
  "metadata": {
    "colab": {
      "provenance": [],
      "collapsed_sections": [],
      "include_colab_link": true
    },
    "kernelspec": {
      "display_name": "Python 3",
      "language": "python",
      "name": "python3"
    },
    "language_info": {
      "codemirror_mode": {
        "name": "ipython",
        "version": 3
      },
      "file_extension": ".py",
      "mimetype": "text/x-python",
      "name": "python",
      "nbconvert_exporter": "python",
      "pygments_lexer": "ipython3",
      "version": "3.7.3"
    }
  },
  "cells": [
    {
      "cell_type": "markdown",
      "metadata": {
        "id": "view-in-github",
        "colab_type": "text"
      },
      "source": [
        "<a href=\"https://colab.research.google.com/github/soopertramp/Coding-Challenges/blob/master/M1%20-%20D6%20-%20Functions%20%26%20Methods.ipynb\" target=\"_parent\"><img src=\"https://colab.research.google.com/assets/colab-badge.svg\" alt=\"Open In Colab\"/></a>"
      ]
    },
    {
      "cell_type": "markdown",
      "metadata": {
        "id": "if7mXXYjlI5a"
      },
      "source": [
        "#### **Functions**\n",
        "\n",
        "Functions will be one of our main building blocks when we construct larger and larger amounts of code to solve problems.\n",
        "\n",
        "**So what is a function?**\n",
        "\n",
        "Formally, a function is a useful device that groups together a set of statements so they can be run more than once. They can also let us specify parameters that can serve as inputs to the functions.\n",
        "\n",
        "On a more fundamental level, functions allow us to not have to repeatedly write the same code again and again. If you remember back to the lessons on strings and lists, remember that we used a function <code>len()</code> to get the length of a string. Since checking the length of a sequence is a common task you would want to write a function that can do this repeatedly at command.\n",
        "\n",
        "Functions will be one of the most basic levels of **reusing code in Python**."
      ]
    },
    {
      "cell_type": "markdown",
      "metadata": {
        "id": "LQDR0mzFlI5f"
      },
      "source": [
        "#### **<code>def</code> Statements**\n",
        "\n",
        "Let's see how to build out a function's syntax in Python. It has the following form:"
      ]
    },
    {
      "cell_type": "code",
      "metadata": {
        "id": "-DGjmGZNlI5k"
      },
      "source": [
        "# def example_function(arg1, arg2): #Arguments are like inputs, it can be empty too\n",
        "\n",
        "#   '''\n",
        "#   This is where the function's Document String (docstring) goes\n",
        "#   '''\n",
        "#   Do stuff here\n",
        "\n",
        "#   return desired_result"
      ],
      "execution_count": 1,
      "outputs": []
    },
    {
      "cell_type": "markdown",
      "metadata": {
        "id": "q8gKQsbFlI53"
      },
      "source": [
        "* We begin with **<code>def</code>** then a space followed by the name of the function. Try to keep names relevant, for example **<code>len()</code>** is a good name for a **<code>length()</code>** function. Also be careful with names, you wouldn't want to call a function the same name as a [built-in function in Python](https://docs.python.org/2/library/functions.html) (such as len).\n",
        "\n",
        "* Next come a pair of parentheses with a number of arguments separated by a comma. These arguments are the inputs for your function. You'll be able to use these inputs in your function and reference them. After this you put a colon.\n",
        "\n",
        "* Now here is the important step, you must indent to begin the code inside your function correctly. Python makes use of *whitespace* to organize code. Lots of other programing languages do not do this, so keep that in mind.\n",
        "\n",
        "* Next you'll see the docstring, this is where you write a basic description of the function. Using iPython and iPython Notebooks, you'll be able to read these docstrings by pressing Shift+Tab after a function name. Docstrings are not necessary for simple functions, but it's good practice to put them in so you or other people can easily understand the code you write.\n",
        "\n",
        "After all this you begin writing the code you wish to execute.\n",
        "\n",
        "* The best way to learn functions is by going through examples. So let's try to go through examples that relate back to the various objects and data structures we learned about before.\n",
        "\n",
        "* **<code>return</code>** allows a function to **return** a result that can then be stored as a variable, or used in whatever manner a user wants."
      ]
    },
    {
      "cell_type": "markdown",
      "metadata": {
        "id": "AZAGdrxAlI57"
      },
      "source": [
        "#### **Example 1: Extract a list of first letters from a sentence**"
      ]
    },
    {
      "cell_type": "code",
      "metadata": {
        "id": "T6Lkq4wdG-e6",
        "colab": {
          "base_uri": "https://localhost:8080/"
        },
        "outputId": "53774e4b-5eb1-449f-d892-8dcf20e5717b"
      },
      "source": [
        "heisenberg_quote = \"It ceases to exist without me. No, you clearly don't know who you're talking to, so let me clue you in. I am not in danger, Skyler. I am the danger.\"\n",
        "print(heisenberg_quote)"
      ],
      "execution_count": 2,
      "outputs": [
        {
          "output_type": "stream",
          "name": "stdout",
          "text": [
            "It ceases to exist without me. No, you clearly don't know who you're talking to, so let me clue you in. I am not in danger, Skyler. I am the danger.\n"
          ]
        }
      ]
    },
    {
      "cell_type": "code",
      "metadata": {
        "id": "FbCx1-iyHCRK",
        "colab": {
          "base_uri": "https://localhost:8080/"
        },
        "outputId": "bf280655-ac58-4ef8-ee08-32bbf525c130"
      },
      "source": [
        "# Using the list comprehension, we can do the above task in this way\n",
        "words_by_walter = heisenberg_quote.split(' ')\n",
        "\n",
        "first_letters = [word[0] for word in words_by_walter]\n",
        "print(first_letters)"
      ],
      "execution_count": 3,
      "outputs": [
        {
          "output_type": "stream",
          "name": "stdout",
          "text": [
            "['I', 'c', 't', 'e', 'w', 'm', 'N', 'y', 'c', 'd', 'k', 'w', 'y', 't', 't', 's', 'l', 'm', 'c', 'y', 'i', 'I', 'a', 'n', 'i', 'd', 'S', 'I', 'a', 't', 'd']\n"
          ]
        }
      ]
    },
    {
      "cell_type": "markdown",
      "metadata": {
        "id": "dpRy4h7mHNW3"
      },
      "source": [
        "#### **Now let us write a function which does the same task for any given sentence**"
      ]
    },
    {
      "cell_type": "code",
      "metadata": {
        "id": "ezItgG0SlI5_"
      },
      "source": [
        "def extract_first_letters(sentence):\n",
        "  '''\n",
        "  This function takes a sentence as an input and returns \n",
        "  the list of first letters of each word\n",
        "  '''\n",
        "  \n",
        "  # Step 1 : Get the list of words in this sentence\n",
        "  words_in_sentence = sentence.split(' ') \n",
        "\n",
        "  # Step 2: Write a list comprehension to extract the first letters\n",
        "  first_letters = [word[0] for word in words_in_sentence]\n",
        "\n",
        "  # Step 3: Return the output list first_letters  \n",
        "  return first_letters"
      ],
      "execution_count": 4,
      "outputs": []
    },
    {
      "cell_type": "code",
      "metadata": {
        "id": "izVY5GousbYm",
        "colab": {
          "base_uri": "https://localhost:8080/"
        },
        "outputId": "65e7436b-6157-46e5-e09b-ecd3e17c67a2"
      },
      "source": [
        "print(extract_first_letters(heisenberg_quote))"
      ],
      "execution_count": 5,
      "outputs": [
        {
          "output_type": "stream",
          "name": "stdout",
          "text": [
            "['I', 'c', 't', 'e', 'w', 'm', 'N', 'y', 'c', 'd', 'k', 'w', 'y', 't', 't', 's', 'l', 'm', 'c', 'y', 'i', 'I', 'a', 'n', 'i', 'd', 'S', 'I', 'a', 't', 'd']\n"
          ]
        }
      ]
    },
    {
      "cell_type": "code",
      "source": [
        "#we can also save that in a variable for future referring to the same sentence\n",
        "\n",
        "heisenberg_first_letters = extract_first_letters(heisenberg_quote)\n",
        "print(heisenberg_first_letters)"
      ],
      "metadata": {
        "colab": {
          "base_uri": "https://localhost:8080/"
        },
        "id": "vEFUX-q65_gQ",
        "outputId": "db2811ae-09b1-46de-d1cc-aa319151308a"
      },
      "execution_count": 6,
      "outputs": [
        {
          "output_type": "stream",
          "name": "stdout",
          "text": [
            "['I', 'c', 't', 'e', 'w', 'm', 'N', 'y', 'c', 'd', 'k', 'w', 'y', 't', 't', 's', 'l', 'm', 'c', 'y', 'i', 'I', 'a', 'n', 'i', 'd', 'S', 'I', 'a', 't', 'd']\n"
          ]
        }
      ]
    },
    {
      "cell_type": "code",
      "source": [
        "print(words_in_sentence)    # Whatever you write inside a function you cannot call it outside (Global Environment)"
      ],
      "metadata": {
        "colab": {
          "base_uri": "https://localhost:8080/",
          "height": 165
        },
        "id": "zr6UtBeP6nI-",
        "outputId": "9fe283db-74db-4347-de4c-842a3889059a"
      },
      "execution_count": 7,
      "outputs": [
        {
          "output_type": "error",
          "ename": "NameError",
          "evalue": "ignored",
          "traceback": [
            "\u001b[0;31m---------------------------------------------------------------------------\u001b[0m",
            "\u001b[0;31mNameError\u001b[0m                                 Traceback (most recent call last)",
            "\u001b[0;32m<ipython-input-7-e6c2e2771b28>\u001b[0m in \u001b[0;36m<module>\u001b[0;34m\u001b[0m\n\u001b[0;32m----> 1\u001b[0;31m \u001b[0mprint\u001b[0m\u001b[0;34m(\u001b[0m\u001b[0mwords_in_sentence\u001b[0m\u001b[0;34m)\u001b[0m    \u001b[0;31m# Whatever you write inside a function you cannot call it outside (Global Environment)\u001b[0m\u001b[0;34m\u001b[0m\u001b[0;34m\u001b[0m\u001b[0m\n\u001b[0m",
            "\u001b[0;31mNameError\u001b[0m: name 'words_in_sentence' is not defined"
          ]
        }
      ]
    },
    {
      "cell_type": "code",
      "source": [
        "def extract_first_letters(sentence):\n",
        "  '''\n",
        "  This function takes a sentence as an input and returns \n",
        "  the list of first letters of each word\n",
        "  '''\n",
        "  \n",
        "  # Step 1 : Get the list of words in this sentence\n",
        "  words_in_sentence = sentence.split(' ') \n",
        "\n",
        "  # Step 2: Write a list comprehension to extract the first letters\n",
        "  list_of_letters = [word[0] for word in words_in_sentence]\n",
        "\n",
        "  # Step 3: Return the output list first_letters  \n",
        "  #return first_letters\n",
        "  print(list_of_letters)"
      ],
      "metadata": {
        "id": "u06Cmp8t7Ohp"
      },
      "execution_count": 8,
      "outputs": []
    },
    {
      "cell_type": "code",
      "source": [
        "print(extract_first_letters(heisenberg_quote))"
      ],
      "metadata": {
        "colab": {
          "base_uri": "https://localhost:8080/"
        },
        "id": "-sm2TgJP8AYA",
        "outputId": "be095c5a-aa12-48ee-85cf-03f72a129b7c"
      },
      "execution_count": 9,
      "outputs": [
        {
          "output_type": "stream",
          "name": "stdout",
          "text": [
            "['I', 'c', 't', 'e', 'w', 'm', 'N', 'y', 'c', 'd', 'k', 'w', 'y', 't', 't', 's', 'l', 'm', 'c', 'y', 'i', 'I', 'a', 'n', 'i', 'd', 'S', 'I', 'a', 't', 'd']\n",
            "None\n"
          ]
        }
      ]
    },
    {
      "cell_type": "code",
      "source": [
        "heisenberg_letters = extract_first_letters(heisenberg_quote)"
      ],
      "metadata": {
        "colab": {
          "base_uri": "https://localhost:8080/"
        },
        "id": "qMwxouhd9UcC",
        "outputId": "1c0db0f8-cfa2-4437-8efb-5195b4333d20"
      },
      "execution_count": 10,
      "outputs": [
        {
          "output_type": "stream",
          "name": "stdout",
          "text": [
            "['I', 'c', 't', 'e', 'w', 'm', 'N', 'y', 'c', 'd', 'k', 'w', 'y', 't', 't', 's', 'l', 'm', 'c', 'y', 'i', 'I', 'a', 'n', 'i', 'd', 'S', 'I', 'a', 't', 'd']\n"
          ]
        }
      ]
    },
    {
      "cell_type": "code",
      "source": [
        "print(heisenberg_letters)  # Without return statement"
      ],
      "metadata": {
        "colab": {
          "base_uri": "https://localhost:8080/"
        },
        "id": "KCAxOR5y9cjh",
        "outputId": "800164d7-2d95-4b28-fc06-e522a8bba675"
      },
      "execution_count": 11,
      "outputs": [
        {
          "output_type": "stream",
          "name": "stdout",
          "text": [
            "None\n"
          ]
        }
      ]
    },
    {
      "cell_type": "markdown",
      "metadata": {
        "id": "N2fXw7UkJLSs"
      },
      "source": [
        "#### **Let us test this function on another sentence**"
      ]
    },
    {
      "cell_type": "code",
      "metadata": {
        "id": "19mdKl4llI6z",
        "colab": {
          "base_uri": "https://localhost:8080/"
        },
        "outputId": "7ef70e23-9a98-4efd-9a31-782dab2f1320"
      },
      "source": [
        "starwars_quote = \"May the Force be with you.\"\n",
        "first_letters_starwars = extract_first_letters(starwars_quote)\n",
        "print(first_letters_starwars)"
      ],
      "execution_count": 12,
      "outputs": [
        {
          "output_type": "stream",
          "name": "stdout",
          "text": [
            "['M', 't', 'F', 'b', 'w', 'y']\n",
            "None\n"
          ]
        }
      ]
    },
    {
      "cell_type": "code",
      "metadata": {
        "id": "j-OcB5lBs0K_",
        "colab": {
          "base_uri": "https://localhost:8080/"
        },
        "outputId": "844454ab-2806-4053-a69a-527dfbeff991"
      },
      "source": [
        "print(extract_first_letters(starwars_quote))"
      ],
      "execution_count": 13,
      "outputs": [
        {
          "output_type": "stream",
          "name": "stdout",
          "text": [
            "['M', 't', 'F', 'b', 'w', 'y']\n",
            "None\n"
          ]
        }
      ]
    },
    {
      "cell_type": "markdown",
      "metadata": {
        "id": "8gBuN364lI7i"
      },
      "source": [
        "#### **Example 2 : Let us now write a function which returns the factorial of a number.**\n",
        "\n",
        "#### In mathematics, the factorial of a positive integer $n$, denoted by $n!$, is the product of all positive integers less than or equal to $n$"
      ]
    },
    {
      "cell_type": "code",
      "metadata": {
        "id": "df64eHtllI7o"
      },
      "source": [
        "def factorial(num):\n",
        "    '''\n",
        "    Function for calculating factorial of a number\n",
        "    '''\n",
        "\n",
        "    # Step 1 : Write an if  statement to print a message if the input number is negative\n",
        "\n",
        "    if num < 0:\n",
        "      print(\"Factorial is not defined for negative numbers.\")\n",
        "\n",
        "    # Step 2: Write the elif statement to calculate the factorial\n",
        "\n",
        "    elif num > 0:\n",
        "      result = 1\n",
        "      for i in range(1, num+1):\n",
        "        result = result * i\n",
        "      #print(f\"The factorial of {num} is {result}.\")\n",
        "    \n",
        "    # Step 3: Write the else statement to take care of the input 0\n",
        "    else:\n",
        "      print(\"The factorial of 0 is 1.\")\n",
        "\n",
        "    # Step 4 : Return the output variable result\n",
        "\n",
        "    return result"
      ],
      "execution_count": 14,
      "outputs": []
    },
    {
      "cell_type": "code",
      "source": [
        "factorial(10)"
      ],
      "metadata": {
        "colab": {
          "base_uri": "https://localhost:8080/"
        },
        "id": "CMAjv7FJBZhZ",
        "outputId": "e9cf1e52-ffa4-413f-f74f-4674c379fc2f"
      },
      "execution_count": 15,
      "outputs": [
        {
          "output_type": "execute_result",
          "data": {
            "text/plain": [
              "3628800"
            ]
          },
          "metadata": {},
          "execution_count": 15
        }
      ]
    },
    {
      "cell_type": "code",
      "source": [
        "# Now let us define a list of numbers for which we want to calculate the factorials\n",
        "list_of_numbers = [3, 5, 8, 12, 4, 6]\n",
        "\n",
        "# We can write a list comprehension for the same task\n",
        "factorial_list = [factorial(number) for number in list_of_numbers]\n",
        "print(factorial_list)"
      ],
      "metadata": {
        "colab": {
          "base_uri": "https://localhost:8080/"
        },
        "id": "6srFM5YTDBwC",
        "outputId": "1a9562d9-fe04-43de-9946-158146fb7f26"
      },
      "execution_count": 16,
      "outputs": [
        {
          "output_type": "stream",
          "name": "stdout",
          "text": [
            "[6, 120, 40320, 479001600, 24, 720]\n"
          ]
        }
      ]
    },
    {
      "cell_type": "code",
      "metadata": {
        "id": "AemuztG4lI75",
        "colab": {
          "base_uri": "https://localhost:8080/"
        },
        "outputId": "2d605284-ee9f-49ba-a471-27f3ceb6f5fe"
      },
      "source": [
        "# Now let us define a list of numbers for which we want to calculate the factorials\n",
        "list_of_numbers = [3, 5, 8, 12, 4, 6]\n",
        "\n",
        "# We can write a list comprehension for the same task\n",
        "factorial_list = [factorial(number) for number in list_of_numbers if number%2 != 0]\n",
        "print(factorial_list)"
      ],
      "execution_count": 17,
      "outputs": [
        {
          "output_type": "stream",
          "name": "stdout",
          "text": [
            "[6, 120]\n"
          ]
        }
      ]
    },
    {
      "cell_type": "markdown",
      "metadata": {
        "id": "k6csqQJrlI8J"
      },
      "source": [
        "#### **Example 3: Let us write a function which takes a date as a string and prints the quarter as output.**\n",
        "\n",
        "#### Remember it is not required that functions will return a value. This is an example of such functions\n"
      ]
    },
    {
      "cell_type": "code",
      "metadata": {
        "id": "Y8H9zJ8HlI8O"
      },
      "source": [
        "# Format = 2020-07-01\n",
        "\n",
        "def assignQuarter(user_date):\n",
        "  '''\n",
        "  This function prints the quarter for a given date string\n",
        "  '''\n",
        "\n",
        "  # Step 1 : Extract the year and month from the input date string\n",
        "  date_year = user_date[0:4]\n",
        "  date_month = user_date[5:7]\n",
        "\n",
        "  # Step 2 : Store the quarter value in a string variable named quarter\n",
        "  if (date_month >= '01') & (date_month <='03'):\n",
        "    quarter = date_year + '- Q1'\n",
        "  elif (date_month >= '04') & (date_month <='06'):\n",
        "    quarter = date_year + '- Q2'\n",
        "  elif (date_month >= '07') & (date_month <='09'):\n",
        "    quarter = date_year + '- Q3'\n",
        "  else:\n",
        "    quarter = date_year + '- Q4'\n",
        "\n",
        "  # Step 3 : Print the message you want to display to the user. Here we are not returning anything  \n",
        "  print(f'The corresponding quarter for the date {user_date} is {quarter}')\n",
        "  return quarter"
      ],
      "execution_count": 18,
      "outputs": []
    },
    {
      "cell_type": "code",
      "source": [
        "sample_date = '2020-03-01'\n",
        "assignQuarter(sample_date)"
      ],
      "metadata": {
        "colab": {
          "base_uri": "https://localhost:8080/",
          "height": 53
        },
        "id": "mUMUWuuaIK3c",
        "outputId": "fec66b3e-39b0-409b-8684-8615ab4cb84b"
      },
      "execution_count": 19,
      "outputs": [
        {
          "output_type": "stream",
          "name": "stdout",
          "text": [
            "The corresponding quarter for the date 2020-03-01 is 2020- Q1\n"
          ]
        },
        {
          "output_type": "execute_result",
          "data": {
            "text/plain": [
              "'2020- Q1'"
            ],
            "application/vnd.google.colaboratory.intrinsic+json": {
              "type": "string"
            }
          },
          "metadata": {},
          "execution_count": 19
        }
      ]
    },
    {
      "cell_type": "code",
      "metadata": {
        "id": "2bUQ5FmFlI8a",
        "scrolled": false,
        "colab": {
          "base_uri": "https://localhost:8080/"
        },
        "outputId": "e8a5613d-34fb-4a48-d726-823b3af4c108"
      },
      "source": [
        "sample_date = '2020-07-01'\n",
        "date_quarter = assignQuarter(sample_date)\n",
        "print(date_quarter)"
      ],
      "execution_count": 20,
      "outputs": [
        {
          "output_type": "stream",
          "name": "stdout",
          "text": [
            "The corresponding quarter for the date 2020-07-01 is 2020- Q3\n",
            "2020- Q3\n"
          ]
        }
      ]
    },
    {
      "cell_type": "code",
      "metadata": {
        "id": "joS3QaIlOcs6",
        "colab": {
          "base_uri": "https://localhost:8080/"
        },
        "outputId": "26a4ebf5-b7e3-4b0c-d96a-b4c7d5ea1e1c"
      },
      "source": [
        "my_quarter = assignQuarter(sample_date)"
      ],
      "execution_count": 21,
      "outputs": [
        {
          "output_type": "stream",
          "name": "stdout",
          "text": [
            "The corresponding quarter for the date 2020-07-01 is 2020- Q3\n"
          ]
        }
      ]
    },
    {
      "cell_type": "code",
      "metadata": {
        "id": "AKXZA6UjOhAh",
        "colab": {
          "base_uri": "https://localhost:8080/"
        },
        "outputId": "3a770827-d9d6-420b-8b5f-39c2e545cf24"
      },
      "source": [
        "print(my_quarter)"
      ],
      "execution_count": 22,
      "outputs": [
        {
          "output_type": "stream",
          "name": "stdout",
          "text": [
            "2020- Q3\n"
          ]
        }
      ]
    },
    {
      "cell_type": "code",
      "metadata": {
        "id": "w2scRk8eO6-V",
        "colab": {
          "base_uri": "https://localhost:8080/",
          "height": 53
        },
        "outputId": "da6a11ef-95e9-4c9b-f0ba-a645be8250b4"
      },
      "source": [
        "assignQuarter(sample_date)"
      ],
      "execution_count": 23,
      "outputs": [
        {
          "output_type": "stream",
          "name": "stdout",
          "text": [
            "The corresponding quarter for the date 2020-07-01 is 2020- Q3\n"
          ]
        },
        {
          "output_type": "execute_result",
          "data": {
            "text/plain": [
              "'2020- Q3'"
            ],
            "application/vnd.google.colaboratory.intrinsic+json": {
              "type": "string"
            }
          },
          "metadata": {},
          "execution_count": 23
        }
      ]
    },
    {
      "cell_type": "markdown",
      "source": [
        "#### **We can also give default user input**"
      ],
      "metadata": {
        "id": "Bd0ivcOYJWpU"
      }
    },
    {
      "cell_type": "code",
      "source": [
        "# Format = 2020-07-01\n",
        "\n",
        "def assignQuarter(user_date = '2020-07-01'):\n",
        "  '''\n",
        "  This function prints the quarter for a given date string\n",
        "  '''\n",
        "\n",
        "  # Step 1 : Extract the year and month from the input date string\n",
        "  date_year = user_date[0:4]\n",
        "  date_month = user_date[5:7]\n",
        "\n",
        "  # Step 2 : Store the quarter value in a string variable named quarter\n",
        "  if (date_month >= '01') & (date_month <='03'):\n",
        "    quarter = date_year + '- Q1'\n",
        "  elif (date_month >= '04') & (date_month <='06'):\n",
        "    quarter = date_year + '- Q2'\n",
        "  elif (date_month >= '07') & (date_month <='09'):\n",
        "    quarter = date_year + '- Q3'\n",
        "  else:\n",
        "    quarter = date_year + '- Q4'\n",
        "\n",
        "  # Step 3 : Print the message you want to display to the user. Here we are not returning anything  \n",
        "  print(f'The corresponding quarter for the date {user_date} is {quarter}')\n",
        "  #return quarter"
      ],
      "metadata": {
        "id": "h-cVZZEAJb2R"
      },
      "execution_count": 24,
      "outputs": []
    },
    {
      "cell_type": "code",
      "source": [
        "assignQuarter()"
      ],
      "metadata": {
        "colab": {
          "base_uri": "https://localhost:8080/"
        },
        "id": "QYd3wClnJr5x",
        "outputId": "124558fb-1c6b-49c0-be12-4733a0170c75"
      },
      "execution_count": 25,
      "outputs": [
        {
          "output_type": "stream",
          "name": "stdout",
          "text": [
            "The corresponding quarter for the date 2020-07-01 is 2020- Q3\n"
          ]
        }
      ]
    },
    {
      "cell_type": "markdown",
      "metadata": {
        "id": "vLhxFqE_lI8o"
      },
      "source": [
        "#### **Example 4: Let us write a function with multiple return statements**"
      ]
    },
    {
      "cell_type": "code",
      "metadata": {
        "id": "-MvPKAGHlI8r"
      },
      "source": [
        "def check_even_or_odd(num):\n",
        "  '''\n",
        "  This function checks whether a number is odd or even and then returns the corresponding string\n",
        "  '''\n",
        "  print(f'Given number is {num}')\n",
        "  \n",
        "  # Step 1 : Check if the number is even. If it is return 'even'\n",
        "  if num %2 == 0:\n",
        "    return 'even'\n",
        "\n",
        "  # Step 2 : Else just return 'odd'\n",
        "  \n",
        "  else:\n",
        "    return 'odd'"
      ],
      "execution_count": 26,
      "outputs": []
    },
    {
      "cell_type": "code",
      "metadata": {
        "id": "Df7vsilOlI84",
        "colab": {
          "base_uri": "https://localhost:8080/"
        },
        "outputId": "701040be-bdd0-464c-c535-017e4fbc56c2"
      },
      "source": [
        "is_even_odd = check_even_or_odd(1564654684321654768751351)\n",
        "print(is_even_odd)"
      ],
      "execution_count": 27,
      "outputs": [
        {
          "output_type": "stream",
          "name": "stdout",
          "text": [
            "Given number is 1564654684321654768751351\n",
            "odd\n"
          ]
        }
      ]
    },
    {
      "cell_type": "code",
      "source": [
        "check_even_or_odd()"
      ],
      "metadata": {
        "colab": {
          "base_uri": "https://localhost:8080/",
          "height": 165
        },
        "id": "Iky9F-rPKuIs",
        "outputId": "af3f173c-0616-4fa9-e86d-1dfa01e4070f"
      },
      "execution_count": 28,
      "outputs": [
        {
          "output_type": "error",
          "ename": "TypeError",
          "evalue": "ignored",
          "traceback": [
            "\u001b[0;31m---------------------------------------------------------------------------\u001b[0m",
            "\u001b[0;31mTypeError\u001b[0m                                 Traceback (most recent call last)",
            "\u001b[0;32m<ipython-input-28-552db00c2d78>\u001b[0m in \u001b[0;36m<module>\u001b[0;34m\u001b[0m\n\u001b[0;32m----> 1\u001b[0;31m \u001b[0mcheck_even_or_odd\u001b[0m\u001b[0;34m(\u001b[0m\u001b[0;34m)\u001b[0m\u001b[0;34m\u001b[0m\u001b[0;34m\u001b[0m\u001b[0m\n\u001b[0m",
            "\u001b[0;31mTypeError\u001b[0m: check_even_or_odd() missing 1 required positional argument: 'num'"
          ]
        }
      ]
    },
    {
      "cell_type": "code",
      "source": [
        "print(check_even_or_odd(1105))"
      ],
      "metadata": {
        "colab": {
          "base_uri": "https://localhost:8080/"
        },
        "id": "6BEvR9crKxYM",
        "outputId": "32759c66-af5c-4e62-8e8f-9ba4cd06dfb8"
      },
      "execution_count": 29,
      "outputs": [
        {
          "output_type": "stream",
          "name": "stdout",
          "text": [
            "Given number is 1105\n",
            "odd\n"
          ]
        }
      ]
    },
    {
      "cell_type": "markdown",
      "metadata": {
        "id": "i_jDWr_ZlI9J"
      },
      "source": [
        "#### **Example 5 : Next let us write a function which returns multiple variables at once.**\n",
        "\n",
        "#### In this specific example, the input is a list of numbers. And we have to return the mean and median of this list of numbers"
      ]
    },
    {
      "cell_type": "code",
      "metadata": {
        "id": "kG3rgxm6ZXnp"
      },
      "source": [
        "heights =  [172,175,170,168,170,200,181]"
      ],
      "execution_count": 30,
      "outputs": []
    },
    {
      "cell_type": "code",
      "metadata": {
        "id": "jivqK1-mlI9T"
      },
      "source": [
        "def calculate_averages(my_list):\n",
        "  '''\n",
        "  This function calculates the mean and median of a given list of numbers.\n",
        "  '''\n",
        "  # Step 1 : Calculate the mean\n",
        "  mean = sum(my_list)/len(my_list)\n",
        "\n",
        "  # Step 2 : Calculate the median\n",
        "  sorted_list = sorted(my_list)\n",
        "  list_length = len(sorted_list)\n",
        "\n",
        "  if list_length %2 == 0:\n",
        "    median = (sorted_list[int(list_length/2)-1] + sorted_list[int(list_length/2)])/2\n",
        "  else :\n",
        "    median = sorted_list[int((list_length+1)/2) - 1]\n",
        "     \n",
        "  return  round(mean,2) , round(median , 2)"
      ],
      "execution_count": 31,
      "outputs": []
    },
    {
      "cell_type": "code",
      "metadata": {
        "id": "Twu3xeb0lI97",
        "colab": {
          "base_uri": "https://localhost:8080/"
        },
        "outputId": "e0d67cd9-cdb8-4368-f746-986db0dc2b28"
      },
      "source": [
        "calculate_averages(heights)"
      ],
      "execution_count": 32,
      "outputs": [
        {
          "output_type": "execute_result",
          "data": {
            "text/plain": [
              "(176.57, 172)"
            ]
          },
          "metadata": {},
          "execution_count": 32
        }
      ]
    },
    {
      "cell_type": "code",
      "metadata": {
        "id": "OoOA_7PHlI-W"
      },
      "source": [
        "mean_height, median_height = calculate_averages(heights)"
      ],
      "execution_count": 33,
      "outputs": []
    },
    {
      "cell_type": "code",
      "metadata": {
        "id": "x4XXJBEglI-j",
        "colab": {
          "base_uri": "https://localhost:8080/"
        },
        "outputId": "85de2b76-b16c-44f3-b240-1eaa1f1350e8"
      },
      "source": [
        "mean_height"
      ],
      "execution_count": 34,
      "outputs": [
        {
          "output_type": "execute_result",
          "data": {
            "text/plain": [
              "176.57"
            ]
          },
          "metadata": {},
          "execution_count": 34
        }
      ]
    },
    {
      "cell_type": "code",
      "metadata": {
        "id": "P8N6jqmrlI-u",
        "colab": {
          "base_uri": "https://localhost:8080/"
        },
        "outputId": "4f0d4d7c-fa55-4f2f-fe0c-173069ac2e54"
      },
      "source": [
        "median_height"
      ],
      "execution_count": 35,
      "outputs": [
        {
          "output_type": "execute_result",
          "data": {
            "text/plain": [
              "172"
            ]
          },
          "metadata": {},
          "execution_count": 35
        }
      ]
    },
    {
      "cell_type": "markdown",
      "metadata": {
        "id": "kn2VVLuulI_e"
      },
      "source": [
        "#### **Example 6: Now let us write a function which adds an element to a list. This functions takes the list as an argument and the element to be added**"
      ]
    },
    {
      "cell_type": "code",
      "metadata": {
        "id": "Bkpji_8jlI_h"
      },
      "source": [
        "def list_append(my_list, elem):\n",
        "  '''\n",
        "  This function appends an element to the list\n",
        "  '''\n",
        "  # Step 1 : Add the element to the list\n",
        "  new_list = my_list + [elem]       \n",
        "\n",
        "  # Step 2 : Return the new_list  \n",
        "  return new_list"
      ],
      "execution_count": 36,
      "outputs": []
    },
    {
      "cell_type": "markdown",
      "source": [
        "#### **If we wrote <code>append( )</code> function then it would have changed the original list**"
      ],
      "metadata": {
        "id": "Y3UGSkPkQmvs"
      }
    },
    {
      "cell_type": "code",
      "metadata": {
        "id": "6Eu3ZCkV4DcU",
        "colab": {
          "base_uri": "https://localhost:8080/"
        },
        "outputId": "b1b57686-382e-4bd8-efec-383403ab885f"
      },
      "source": [
        "print(heights)"
      ],
      "execution_count": 37,
      "outputs": [
        {
          "output_type": "stream",
          "name": "stdout",
          "text": [
            "[172, 175, 170, 168, 170, 200, 181]\n"
          ]
        }
      ]
    },
    {
      "cell_type": "code",
      "metadata": {
        "id": "NNs0CCsolI_u",
        "colab": {
          "base_uri": "https://localhost:8080/"
        },
        "outputId": "3db29e85-90e7-4e25-840b-ee93ed5bded0"
      },
      "source": [
        "list_append(heights,190)"
      ],
      "execution_count": 38,
      "outputs": [
        {
          "output_type": "execute_result",
          "data": {
            "text/plain": [
              "[172, 175, 170, 168, 170, 200, 181, 190]"
            ]
          },
          "metadata": {},
          "execution_count": 38
        }
      ]
    },
    {
      "cell_type": "code",
      "metadata": {
        "id": "-KJKUCLH4MJx",
        "colab": {
          "base_uri": "https://localhost:8080/"
        },
        "outputId": "9cfa2cfe-6438-46a9-b959-76b09e235e5e"
      },
      "source": [
        "print(heights)"
      ],
      "execution_count": 39,
      "outputs": [
        {
          "output_type": "stream",
          "name": "stdout",
          "text": [
            "[172, 175, 170, 168, 170, 200, 181]\n"
          ]
        }
      ]
    },
    {
      "cell_type": "code",
      "metadata": {
        "id": "rw8GanMmlI_3",
        "colab": {
          "base_uri": "https://localhost:8080/"
        },
        "outputId": "35c95f93-286c-496f-8cbf-f3e350e76b32"
      },
      "source": [
        "list_append(heights, elem = 40)"
      ],
      "execution_count": 40,
      "outputs": [
        {
          "output_type": "execute_result",
          "data": {
            "text/plain": [
              "[172, 175, 170, 168, 170, 200, 181, 40]"
            ]
          },
          "metadata": {},
          "execution_count": 40
        }
      ]
    },
    {
      "cell_type": "code",
      "metadata": {
        "id": "8Gec4wsF4yzz",
        "colab": {
          "base_uri": "https://localhost:8080/"
        },
        "outputId": "5c48993c-da33-44e5-c8b2-d912fa3d2c9f"
      },
      "source": [
        "print(heights)"
      ],
      "execution_count": 41,
      "outputs": [
        {
          "output_type": "stream",
          "name": "stdout",
          "text": [
            "[172, 175, 170, 168, 170, 200, 181]\n"
          ]
        }
      ]
    },
    {
      "cell_type": "code",
      "metadata": {
        "id": "kOo-JHdK41Yy"
      },
      "source": [
        "heights.append(60)"
      ],
      "execution_count": 42,
      "outputs": []
    },
    {
      "cell_type": "code",
      "metadata": {
        "id": "opiniKlP48dn",
        "colab": {
          "base_uri": "https://localhost:8080/"
        },
        "outputId": "36b1bf98-4f0f-43b0-f48f-e49aadcae0b3"
      },
      "source": [
        "print(heights)"
      ],
      "execution_count": 43,
      "outputs": [
        {
          "output_type": "stream",
          "name": "stdout",
          "text": [
            "[172, 175, 170, 168, 170, 200, 181, 60]\n"
          ]
        }
      ]
    },
    {
      "cell_type": "markdown",
      "metadata": {
        "id": "NWPhYNATjbA5"
      },
      "source": [
        "#### **Let us find out what are the differences between functions and methods**\n",
        "\n",
        "* Function and method both look similar as they perform in an almost similar way, but the key difference is the concept of ‘Class and its Object’. Functions can be called only by its name, as it is defined independently. But methods cannot be called by its name only we need to invoke the class by reference of that class in which it is defined, that is, the method is defined within a class and hence they are dependent on that class.\n",
        "\n",
        "* A method is called by its name but it is associated with an object (dependent). It is implicitly passed to an object on which it is invoked. It may or may not return any data. A method can operate the data (instance variables) that is contained by the corresponding class."
      ]
    },
    {
      "cell_type": "markdown",
      "metadata": {
        "id": "BO25ViQ7lI36"
      },
      "source": [
        "#### **Methods**\n",
        "\n",
        "We've already seen a few example of methods when learning about lists in Python. **Methods are essentially functions built into objects.**\n",
        "\n",
        "Methods perform specific actions on an object and can also take arguments, just like a function. \n",
        "\n",
        "Methods are of the form:\n",
        "\n",
        "    object.method(arg1,arg2,etc...)\n",
        "\n",
        "functions are like:\n",
        "\n",
        "    len()\n",
        "    count()"
      ]
    },
    {
      "cell_type": "code",
      "metadata": {
        "id": "BUbbf50vlJAH"
      },
      "source": [
        "def insert_value_to_list(list_obj, index_to_place, value_to_place):\n",
        "  '''\n",
        "  This function inserts an element to a list at a specified index\n",
        "  '''\n",
        "\n",
        "  # Step 1 : Get the first part  \n",
        "  first_part = list_obj[0:index_to_place]\n",
        "\n",
        "  # Step 2 : Append the element at the end of the first part\n",
        "  first_part.append(value_to_place)\n",
        "\n",
        "  # Step 3 : Get the last part\n",
        "  last_part = list_obj[index_to_place:]\n",
        "\n",
        "  # Step 4 : Use the extend method to add the last part to the first part\n",
        "  first_part.extend(last_part)\n",
        "  \n",
        "  # Step 5 : Return the first part\n",
        "  return first_part"
      ],
      "execution_count": 44,
      "outputs": []
    },
    {
      "cell_type": "code",
      "metadata": {
        "id": "f6o1mUMZlJAP"
      },
      "source": [
        "new_heights = insert_value_to_list(heights, 2, 180)"
      ],
      "execution_count": 45,
      "outputs": []
    },
    {
      "cell_type": "code",
      "metadata": {
        "id": "O5idpTBHlJAT",
        "colab": {
          "base_uri": "https://localhost:8080/"
        },
        "outputId": "bec285ca-7d74-4349-f260-3fe65be78aae"
      },
      "source": [
        "new_heights"
      ],
      "execution_count": 46,
      "outputs": [
        {
          "output_type": "execute_result",
          "data": {
            "text/plain": [
              "[172, 175, 180, 170, 168, 170, 200, 181, 60]"
            ]
          },
          "metadata": {},
          "execution_count": 46
        }
      ]
    },
    {
      "cell_type": "code",
      "metadata": {
        "id": "x_X_4K8glJAX"
      },
      "source": [
        "heights.insert(2,150)"
      ],
      "execution_count": 47,
      "outputs": []
    },
    {
      "cell_type": "code",
      "metadata": {
        "id": "HqgPIkotlJAa",
        "colab": {
          "base_uri": "https://localhost:8080/"
        },
        "outputId": "11dc4718-a61a-4dda-967f-78e8113c9677"
      },
      "source": [
        "heights"
      ],
      "execution_count": 48,
      "outputs": [
        {
          "output_type": "execute_result",
          "data": {
            "text/plain": [
              "[172, 175, 150, 170, 168, 170, 200, 181, 60]"
            ]
          },
          "metadata": {},
          "execution_count": 48
        }
      ]
    },
    {
      "cell_type": "markdown",
      "metadata": {
        "id": "evEjAvNelJAi"
      },
      "source": [
        "#### **Scope** \n",
        "\n",
        "Now that we have gone over writing our own functions, it's important to understand how Python deals with the variable names you assign. When you create a variable name in Python the name is stored in a *name-space*. Variable names also have a *scope*, the scope determines the visibility of that variable name to other parts of your code.\n",
        "\n",
        "Let's start with a quick thought experiment; imagine the following code:"
      ]
    },
    {
      "cell_type": "code",
      "metadata": {
        "id": "x7pubsHulJAj"
      },
      "source": [
        "x = 25\n",
        "\n",
        "def experiment():\n",
        "  global x\n",
        "  x = 50\n",
        " \n",
        "  return x"
      ],
      "execution_count": 49,
      "outputs": []
    },
    {
      "cell_type": "code",
      "source": [
        "x"
      ],
      "metadata": {
        "colab": {
          "base_uri": "https://localhost:8080/"
        },
        "id": "lWNchY7wZhWR",
        "outputId": "e68f3c6d-c629-4193-d74d-2a3ce4c0a941"
      },
      "execution_count": 50,
      "outputs": [
        {
          "output_type": "execute_result",
          "data": {
            "text/plain": [
              "25"
            ]
          },
          "metadata": {},
          "execution_count": 50
        }
      ]
    },
    {
      "cell_type": "markdown",
      "metadata": {
        "id": "H6ZOPIBWlJAv"
      },
      "source": [
        "**What do you imagine the output of <code>experiment()</code> is? 25 or 50? What is the output of print <code>x</code>? 25 or 50?**"
      ]
    },
    {
      "cell_type": "code",
      "metadata": {
        "id": "D-_hLJ8FlJAx",
        "colab": {
          "base_uri": "https://localhost:8080/"
        },
        "outputId": "39c74b3a-f270-4b2e-bd3c-2768e6d3efe3"
      },
      "source": [
        "experiment()"
      ],
      "execution_count": 51,
      "outputs": [
        {
          "output_type": "execute_result",
          "data": {
            "text/plain": [
              "50"
            ]
          },
          "metadata": {},
          "execution_count": 51
        }
      ]
    },
    {
      "cell_type": "code",
      "metadata": {
        "id": "rPI61vyrlJA-",
        "colab": {
          "base_uri": "https://localhost:8080/"
        },
        "outputId": "6fa5d5a0-d7e8-470d-c173-61ba91269e41"
      },
      "source": [
        "x"
      ],
      "execution_count": 52,
      "outputs": [
        {
          "output_type": "execute_result",
          "data": {
            "text/plain": [
              "50"
            ]
          },
          "metadata": {},
          "execution_count": 52
        }
      ]
    },
    {
      "cell_type": "markdown",
      "metadata": {
        "id": "Re4HtKjglJBG"
      },
      "source": [
        "**How do we make this function take the global variable <code>x</code> and change it?**"
      ]
    },
    {
      "cell_type": "code",
      "metadata": {
        "id": "X-Ag1dMblJBI"
      },
      "source": [
        "def new_experiment():\n",
        "    \n",
        "  x = 50\n",
        "\n",
        "  return x"
      ],
      "execution_count": 53,
      "outputs": []
    },
    {
      "cell_type": "code",
      "metadata": {
        "id": "3tk3f0EmlJBb"
      },
      "source": [
        "x = 40"
      ],
      "execution_count": 54,
      "outputs": []
    },
    {
      "cell_type": "code",
      "metadata": {
        "id": "PwWs94zS8DNQ",
        "colab": {
          "base_uri": "https://localhost:8080/"
        },
        "outputId": "c85420c8-5522-47a0-b687-c2acbdfe1cf5"
      },
      "source": [
        "x"
      ],
      "execution_count": 55,
      "outputs": [
        {
          "output_type": "execute_result",
          "data": {
            "text/plain": [
              "40"
            ]
          },
          "metadata": {},
          "execution_count": 55
        }
      ]
    },
    {
      "cell_type": "code",
      "metadata": {
        "id": "ezV_6FpZlJBU",
        "colab": {
          "base_uri": "https://localhost:8080/"
        },
        "outputId": "81cb70e9-5adb-4c63-bf53-6fa9cd292efb"
      },
      "source": [
        "new_experiment()"
      ],
      "execution_count": 56,
      "outputs": [
        {
          "output_type": "execute_result",
          "data": {
            "text/plain": [
              "50"
            ]
          },
          "metadata": {},
          "execution_count": 56
        }
      ]
    }
  ]
}